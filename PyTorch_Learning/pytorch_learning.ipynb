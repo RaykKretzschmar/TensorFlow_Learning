{
 "cells": [
  {
   "cell_type": "code",
   "execution_count": 27,
   "metadata": {},
   "outputs": [],
   "source": [
    "import torch\n",
    "import numpy as np"
   ]
  },
  {
   "cell_type": "code",
   "execution_count": 26,
   "metadata": {},
   "outputs": [
    {
     "name": "stdout",
     "output_type": "stream",
     "text": [
      "tensor([[4.7522, 2.5298],\n",
      "        [0.3647, 0.9787]], dtype=torch.float64)\n"
     ]
    },
    {
     "data": {
      "text/plain": [
       "tensor([2.5298, 0.9787], dtype=torch.float64)"
      ]
     },
     "execution_count": 26,
     "metadata": {},
     "output_type": "execute_result"
    }
   ],
   "source": [
    "x = torch.rand(2, 2, dtype=torch.double)\n",
    "y = torch.rand(2, 2, dtype=torch.double)\n",
    "\n",
    "z = torch.div(x, y)\n",
    "print(z)\n",
    "z[:, 1]"
   ]
  },
  {
   "cell_type": "code",
   "execution_count": 30,
   "metadata": {},
   "outputs": [
    {
     "name": "stdout",
     "output_type": "stream",
     "text": [
      "cuda\n",
      "tensor([1.8805, 1.1933, 1.4666, 1.3523, 1.1387], device='cuda:0')\n",
      "tensor([1.8805, 1.1933, 1.4666, 1.3523, 1.1387], dtype=torch.float64)\n"
     ]
    }
   ],
   "source": [
    "if torch.cuda.is_available():\n",
    "    device = torch.device(\"cuda\")\n",
    "    print(device)\n",
    "    y = torch.ones(5, device=device)\n",
    "    x = torch.rand(5)\n",
    "    x = x.to(device)\n",
    "    z = x + y\n",
    "    print(z)\n",
    "    print(z.to(\"cpu\", torch.double))"
   ]
  },
  {
   "cell_type": "code",
   "execution_count": 35,
   "metadata": {},
   "outputs": [
    {
     "name": "stdout",
     "output_type": "stream",
     "text": [
      "tensor([3., 3., 3., 3.])\n",
      "tensor([3., 3., 3., 3.])\n",
      "tensor([3., 3., 3., 3.])\n"
     ]
    }
   ],
   "source": [
    "weights = torch.ones(4, requires_grad=True)\n",
    "\n",
    "for epoch in range(3):\n",
    "    model_output = (weights*3).sum()\n",
    "    model_output.backward()\n",
    "    print(weights.grad)\n",
    "\n",
    "    weights.grad.zero_()"
   ]
  },
  {
   "cell_type": "code",
   "execution_count": 54,
   "metadata": {},
   "outputs": [],
   "source": [
    "weights = torch.ones(4, requires_grad=True)\n",
    "optimizer = torch.optim.SGD([weights], lr=0.01)\n",
    "optimizer.step()\n",
    "optimizer.zero_grad()"
   ]
  },
  {
   "cell_type": "markdown",
   "metadata": {},
   "source": [
    "## Autograd"
   ]
  },
  {
   "cell_type": "code",
   "execution_count": 90,
   "metadata": {},
   "outputs": [
    {
     "name": "stdout",
     "output_type": "stream",
     "text": [
      "Prediction after training: f(3.2) = 1.184\n",
      "tensor(0.3700, requires_grad=True)\n",
      "Prediction after training: f(3.2) = 1.184\n",
      "tensor(0.3700, requires_grad=True)\n",
      "Prediction after training: f(3.2) = 1.184\n",
      "tensor(0.3700, requires_grad=True)\n"
     ]
    }
   ],
   "source": [
    "x = torch.tensor([3.2, 6.4, 5.1, 6.7, 12, 12, 32 ,34 ,23, 23, 4])\n",
    "y = torch.tensor([2.0, 3.0, 4.0, 5.0, 45, 45, 2, 5, 6, 7, 8])\n",
    "\n",
    "w = torch.tensor(4.0, requires_grad=True)\n",
    "\n",
    "def train(x, y, w, iterations=10):\n",
    "    for i in range(iterations):\n",
    "        for xi, yi in zip(x, y):\n",
    "            # forward pass and compute the loss\n",
    "            y_hat = w * xi\n",
    "            loss = (y_hat - yi)**2\n",
    "\n",
    "            # backward pass\t\n",
    "            loss.backward()\n",
    "\n",
    "            # update weights\n",
    "            with torch.no_grad():\n",
    "                w -= 0.001 * w.grad\n",
    "\n",
    "            # zero the gradients\n",
    "            w.grad.zero_()\n",
    "    return w\n",
    "\n",
    "w1 = train(x, y, w, iterations=10)\n",
    "w2 = train(x, y, w, iterations=100)\n",
    "w3 = train(x, y, w, iterations=1000)\n",
    "\n",
    "for w in [w1, w2, w3]:\n",
    "    print(f'Prediction after training: f(3.2) = {w * 3.2:.3f}')\n",
    "    print(w)\n"
   ]
  },
  {
   "cell_type": "code",
   "execution_count": null,
   "metadata": {},
   "outputs": [],
   "source": []
  }
 ],
 "metadata": {
  "kernelspec": {
   "display_name": "pytorch",
   "language": "python",
   "name": "python3"
  },
  "language_info": {
   "codemirror_mode": {
    "name": "ipython",
    "version": 3
   },
   "file_extension": ".py",
   "mimetype": "text/x-python",
   "name": "python",
   "nbconvert_exporter": "python",
   "pygments_lexer": "ipython3",
   "version": "3.10.13"
  }
 },
 "nbformat": 4,
 "nbformat_minor": 2
}
