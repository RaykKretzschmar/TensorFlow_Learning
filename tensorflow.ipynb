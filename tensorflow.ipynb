{
 "cells": [
  {
   "cell_type": "code",
   "execution_count": 1,
   "metadata": {},
   "outputs": [],
   "source": [
    "import numpy as np\n",
    "import pandas as pd\n",
    "import matplotlib.pyplot as plt\n",
    "\n",
    "import tensorflow as tf\n",
    "import tensorflow_hub as hub\n",
    "\n",
    "from sklearn.model_selection import train_test_split\n",
    "from sklearn.preprocessing import StandardScaler\n",
    "\n",
    "from imblearn.over_sampling import RandomOverSampler\n"
   ]
  },
  {
   "cell_type": "code",
   "execution_count": 2,
   "metadata": {},
   "outputs": [
    {
     "data": {
      "text/html": [
       "<div>\n",
       "<style scoped>\n",
       "    .dataframe tbody tr th:only-of-type {\n",
       "        vertical-align: middle;\n",
       "    }\n",
       "\n",
       "    .dataframe tbody tr th {\n",
       "        vertical-align: top;\n",
       "    }\n",
       "\n",
       "    .dataframe thead th {\n",
       "        text-align: right;\n",
       "    }\n",
       "</style>\n",
       "<table border=\"1\" class=\"dataframe\">\n",
       "  <thead>\n",
       "    <tr style=\"text-align: right;\">\n",
       "      <th></th>\n",
       "      <th>country</th>\n",
       "      <th>description</th>\n",
       "      <th>points</th>\n",
       "      <th>price</th>\n",
       "      <th>variety</th>\n",
       "      <th>winery</th>\n",
       "    </tr>\n",
       "  </thead>\n",
       "  <tbody>\n",
       "    <tr>\n",
       "      <th>0</th>\n",
       "      <td>Italy</td>\n",
       "      <td>Aromas include tropical fruit, broom, brimston...</td>\n",
       "      <td>87</td>\n",
       "      <td>NaN</td>\n",
       "      <td>White Blend</td>\n",
       "      <td>Nicosia</td>\n",
       "    </tr>\n",
       "    <tr>\n",
       "      <th>1</th>\n",
       "      <td>Portugal</td>\n",
       "      <td>This is ripe and fruity, a wine that is smooth...</td>\n",
       "      <td>87</td>\n",
       "      <td>15.0</td>\n",
       "      <td>Portuguese Red</td>\n",
       "      <td>Quinta dos Avidagos</td>\n",
       "    </tr>\n",
       "    <tr>\n",
       "      <th>2</th>\n",
       "      <td>US</td>\n",
       "      <td>Tart and snappy, the flavors of lime flesh and...</td>\n",
       "      <td>87</td>\n",
       "      <td>14.0</td>\n",
       "      <td>Pinot Gris</td>\n",
       "      <td>Rainstorm</td>\n",
       "    </tr>\n",
       "    <tr>\n",
       "      <th>3</th>\n",
       "      <td>US</td>\n",
       "      <td>Pineapple rind, lemon pith and orange blossom ...</td>\n",
       "      <td>87</td>\n",
       "      <td>13.0</td>\n",
       "      <td>Riesling</td>\n",
       "      <td>St. Julian</td>\n",
       "    </tr>\n",
       "    <tr>\n",
       "      <th>4</th>\n",
       "      <td>US</td>\n",
       "      <td>Much like the regular bottling from 2012, this...</td>\n",
       "      <td>87</td>\n",
       "      <td>65.0</td>\n",
       "      <td>Pinot Noir</td>\n",
       "      <td>Sweet Cheeks</td>\n",
       "    </tr>\n",
       "  </tbody>\n",
       "</table>\n",
       "</div>"
      ],
      "text/plain": [
       "    country                                        description  points  price  \\\n",
       "0     Italy  Aromas include tropical fruit, broom, brimston...      87    NaN   \n",
       "1  Portugal  This is ripe and fruity, a wine that is smooth...      87   15.0   \n",
       "2        US  Tart and snappy, the flavors of lime flesh and...      87   14.0   \n",
       "3        US  Pineapple rind, lemon pith and orange blossom ...      87   13.0   \n",
       "4        US  Much like the regular bottling from 2012, this...      87   65.0   \n",
       "\n",
       "          variety               winery  \n",
       "0     White Blend              Nicosia  \n",
       "1  Portuguese Red  Quinta dos Avidagos  \n",
       "2      Pinot Gris            Rainstorm  \n",
       "3        Riesling           St. Julian  \n",
       "4      Pinot Noir         Sweet Cheeks  "
      ]
     },
     "execution_count": 2,
     "metadata": {},
     "output_type": "execute_result"
    }
   ],
   "source": [
    "df_wine = pd.read_csv(\"data/wine-reviews.csv\", usecols=['country', 'description', 'points', 'price', 'variety', 'winery'])\n",
    "df_wine.head()\n"
   ]
  },
  {
   "cell_type": "code",
   "execution_count": 3,
   "metadata": {},
   "outputs": [
    {
     "data": {
      "text/html": [
       "<div>\n",
       "<style scoped>\n",
       "    .dataframe tbody tr th:only-of-type {\n",
       "        vertical-align: middle;\n",
       "    }\n",
       "\n",
       "    .dataframe tbody tr th {\n",
       "        vertical-align: top;\n",
       "    }\n",
       "\n",
       "    .dataframe thead th {\n",
       "        text-align: right;\n",
       "    }\n",
       "</style>\n",
       "<table border=\"1\" class=\"dataframe\">\n",
       "  <thead>\n",
       "    <tr style=\"text-align: right;\">\n",
       "      <th></th>\n",
       "      <th>Pregnancies</th>\n",
       "      <th>Glucose</th>\n",
       "      <th>BloodPressure</th>\n",
       "      <th>SkinThickness</th>\n",
       "      <th>Insulin</th>\n",
       "      <th>BMI</th>\n",
       "      <th>DiabetesPedigreeFunction</th>\n",
       "      <th>Age</th>\n",
       "      <th>Outcome</th>\n",
       "    </tr>\n",
       "  </thead>\n",
       "  <tbody>\n",
       "    <tr>\n",
       "      <th>0</th>\n",
       "      <td>6</td>\n",
       "      <td>148</td>\n",
       "      <td>72</td>\n",
       "      <td>35</td>\n",
       "      <td>0</td>\n",
       "      <td>33.6</td>\n",
       "      <td>0.627</td>\n",
       "      <td>50</td>\n",
       "      <td>1</td>\n",
       "    </tr>\n",
       "    <tr>\n",
       "      <th>1</th>\n",
       "      <td>1</td>\n",
       "      <td>85</td>\n",
       "      <td>66</td>\n",
       "      <td>29</td>\n",
       "      <td>0</td>\n",
       "      <td>26.6</td>\n",
       "      <td>0.351</td>\n",
       "      <td>31</td>\n",
       "      <td>0</td>\n",
       "    </tr>\n",
       "    <tr>\n",
       "      <th>2</th>\n",
       "      <td>8</td>\n",
       "      <td>183</td>\n",
       "      <td>64</td>\n",
       "      <td>0</td>\n",
       "      <td>0</td>\n",
       "      <td>23.3</td>\n",
       "      <td>0.672</td>\n",
       "      <td>32</td>\n",
       "      <td>1</td>\n",
       "    </tr>\n",
       "    <tr>\n",
       "      <th>3</th>\n",
       "      <td>1</td>\n",
       "      <td>89</td>\n",
       "      <td>66</td>\n",
       "      <td>23</td>\n",
       "      <td>94</td>\n",
       "      <td>28.1</td>\n",
       "      <td>0.167</td>\n",
       "      <td>21</td>\n",
       "      <td>0</td>\n",
       "    </tr>\n",
       "    <tr>\n",
       "      <th>4</th>\n",
       "      <td>0</td>\n",
       "      <td>137</td>\n",
       "      <td>40</td>\n",
       "      <td>35</td>\n",
       "      <td>168</td>\n",
       "      <td>43.1</td>\n",
       "      <td>2.288</td>\n",
       "      <td>33</td>\n",
       "      <td>1</td>\n",
       "    </tr>\n",
       "  </tbody>\n",
       "</table>\n",
       "</div>"
      ],
      "text/plain": [
       "   Pregnancies  Glucose  BloodPressure  SkinThickness  Insulin   BMI  \\\n",
       "0            6      148             72             35        0  33.6   \n",
       "1            1       85             66             29        0  26.6   \n",
       "2            8      183             64              0        0  23.3   \n",
       "3            1       89             66             23       94  28.1   \n",
       "4            0      137             40             35      168  43.1   \n",
       "\n",
       "   DiabetesPedigreeFunction  Age  Outcome  \n",
       "0                     0.627   50        1  \n",
       "1                     0.351   31        0  \n",
       "2                     0.672   32        1  \n",
       "3                     0.167   21        0  \n",
       "4                     2.288   33        1  "
      ]
     },
     "execution_count": 3,
     "metadata": {},
     "output_type": "execute_result"
    }
   ],
   "source": [
    "df_diabetes = pd.read_csv(\"data/diabetes.csv\")\n",
    "df_diabetes.head()"
   ]
  },
  {
   "cell_type": "markdown",
   "metadata": {},
   "source": [
    "# WINE"
   ]
  },
  {
   "cell_type": "code",
   "execution_count": 4,
   "metadata": {},
   "outputs": [
    {
     "data": {
      "image/png": "[encoded data removed]",
      "text/plain": [
       "<Figure size 640x480 with 1 Axes>"
      ]
     },
     "metadata": {},
     "output_type": "display_data"
    }
   ],
   "source": [
    "plt.hist(df_wine.points, bins=20)\n",
    "plt.title(\"Points histogram\")\n",
    "plt.xlabel(\"Points\")\n",
    "plt.ylabel(\"N\")\n",
    "plt.show()"
   ]
  },
  {
   "cell_type": "code",
   "execution_count": 5,
   "metadata": {},
   "outputs": [
    {
     "data": {
      "text/html": [
       "<div>\n",
       "<style scoped>\n",
       "    .dataframe tbody tr th:only-of-type {\n",
       "        vertical-align: middle;\n",
       "    }\n",
       "\n",
       "    .dataframe tbody tr th {\n",
       "        vertical-align: top;\n",
       "    }\n",
       "\n",
       "    .dataframe thead th {\n",
       "        text-align: right;\n",
       "    }\n",
       "</style>\n",
       "<table border=\"1\" class=\"dataframe\">\n",
       "  <thead>\n",
       "    <tr style=\"text-align: right;\">\n",
       "      <th></th>\n",
       "      <th>description</th>\n",
       "      <th>label</th>\n",
       "    </tr>\n",
       "  </thead>\n",
       "  <tbody>\n",
       "    <tr>\n",
       "      <th>129966</th>\n",
       "      <td>Notes of honeysuckle and cantaloupe sweeten th...</td>\n",
       "      <td>1</td>\n",
       "    </tr>\n",
       "    <tr>\n",
       "      <th>129967</th>\n",
       "      <td>Citation is given as much as a decade of bottl...</td>\n",
       "      <td>1</td>\n",
       "    </tr>\n",
       "    <tr>\n",
       "      <th>129968</th>\n",
       "      <td>Well-drained gravel soil gives this wine its c...</td>\n",
       "      <td>1</td>\n",
       "    </tr>\n",
       "    <tr>\n",
       "      <th>129969</th>\n",
       "      <td>A dry style of Pinot Gris, this is crisp with ...</td>\n",
       "      <td>1</td>\n",
       "    </tr>\n",
       "    <tr>\n",
       "      <th>129970</th>\n",
       "      <td>Big, rich and off-dry, this is powered by inte...</td>\n",
       "      <td>1</td>\n",
       "    </tr>\n",
       "  </tbody>\n",
       "</table>\n",
       "</div>"
      ],
      "text/plain": [
       "                                              description  label\n",
       "129966  Notes of honeysuckle and cantaloupe sweeten th...      1\n",
       "129967  Citation is given as much as a decade of bottl...      1\n",
       "129968  Well-drained gravel soil gives this wine its c...      1\n",
       "129969  A dry style of Pinot Gris, this is crisp with ...      1\n",
       "129970  Big, rich and off-dry, this is powered by inte...      1"
      ]
     },
     "execution_count": 5,
     "metadata": {},
     "output_type": "execute_result"
    }
   ],
   "source": [
    "df_wine[\"label\"] = (df_wine.points >= 90).astype(int)\n",
    "df_wine = df_wine[[\"description\", \"label\"]]\n",
    "df_wine.tail()"
   ]
  },
  {
   "cell_type": "code",
   "execution_count": 6,
   "metadata": {},
   "outputs": [],
   "source": [
    "train, valid, test = np.split(df_wine.sample(frac=1), [int(0.8*len(df_wine)), int(0.9*len(df_wine))])"
   ]
  },
  {
   "cell_type": "code",
   "execution_count": 7,
   "metadata": {},
   "outputs": [],
   "source": [
    "def df_to_dataset(dataframe, shuffle=True, batch_size=32):\n",
    "    df = dataframe.copy()\n",
    "    labels = df.pop('label')\n",
    "    df = df[\"description\"]\n",
    "    ds = tf.data.Dataset.from_tensor_slices((df, labels))\n",
    "    if shuffle:\n",
    "        ds = ds.shuffle(buffer_size=len(dataframe))\n",
    "    ds = ds.batch(batch_size)\n",
    "    ds = ds.prefetch(tf.data.AUTOTUNE)\n",
    "    return ds\n",
    "    "
   ]
  },
  {
   "cell_type": "code",
   "execution_count": 46,
   "metadata": {},
   "outputs": [
    {
     "name": "stdout",
     "output_type": "stream",
     "text": [
      "                                             description  label\n",
      "58560  Bramble, leather and red fruit make for a dece...      0\n",
      "20061  This is technically a white wine but with eyes...      1\n",
      "9459   Additions of Sauvignon Musque and Sauvignon Gr...      1\n",
      "13178  Oak, chocolate, vanilla and ripe black plum wa...      0\n",
      "13383  Mouthwatering aromas of tropical mango, melon ...      1\n",
      "...                                                  ...    ...\n",
      "71396  Still the best wine in the lineup, this Bordea...      1\n",
      "80275  Aromas of golden raisins, fig, licorice and va...      0\n",
      "66359  This certified organic and biodynamic wine has...      0\n",
      "37214  Underbrush, scorched earth, dried tobacco leaf...      0\n",
      "91903  Made of 70% Sangiovese, 20% Ciliegiolo and 10%...      0\n",
      "\n",
      "[103976 rows x 2 columns]\n",
      "<_PrefetchDataset element_spec=(TensorSpec(shape=(None,), dtype=tf.string, name=None), TensorSpec(shape=(None,), dtype=tf.int32, name=None))>\n"
     ]
    }
   ],
   "source": [
    "train_data = df_to_dataset(train)\n",
    "valid_data = df_to_dataset(valid)\n",
    "test_data = df_to_dataset(test)\n",
    "\n",
    "print(train)\n",
    "print(train_data)"
   ]
  },
  {
   "cell_type": "code",
   "execution_count": 47,
   "metadata": {},
   "outputs": [
    {
     "data": {
      "text/plain": [
       "(<tf.Tensor: shape=(32,), dtype=string, numpy=\n",
       " array([b'A structured wine, this is packed with tannins as well as dark fruit and flavors from the wood aging. It is solid, backed with a concentrated, dry aftertaste with great potential. Drink from 2018.',\n",
       "        b'Elegant aromas of blackcurrant and black cassis combine with German-chocolate cake and concentrated violet oil scents on the nose of this bottling. It is soft and full on the palate, where mouth-coating tannins present flavors of earthy loam, black cherry and hint of burnt caramel on the finish.',\n",
       "        b'Chiseled aromas of lemon-lime and spring flowers are lean but clean, and that pretty much describes this blend of Treixadura, Torront\\xc3\\xa9s and Palomino. Lime and green banana are the key flavors, and the finish brings back lemon-lime and minerality. More basic than flashy, but nice in a neutral way.',\n",
       "        b'Lively, crisp wine from an estate founded by the Knights Templar in the 13th century. It is full of delicious red fruits, light acidity and a nervy, mineral aftertaste.',\n",
       "        b'The inviting notion of gently sun-ripened yellow plums on the nose draws you in. The palate follows this with gentle, juicy but balanced ripeness, featuring mirabelle plum and pear. There is a welcome grapefruit zestiness to the body and finish that makes this refreshing and moreish.',\n",
       "        b\"A dark tint and ripe aromas of blackberry, black plum and leather are appealing and inviting. This is weighty and full-bodied, with blackberry, boysenberry and cassis flavors. There's not a lot of nuance or complexity, but overall this is clean, tasty and generous.\",\n",
       "        b'Chemical notes sit atop aromas of peach pit and green banana. This is narrow in the mouth, with mealy melon and tropical fruit flavors. A peachy finish lacks finesse and more.',\n",
       "        b'This gorgeous new release, from a young winery with a Riesling focus, is resplendent with an enticing mix of flowers, fruits and stone. The scents well up from the glass and the flavors fill the mouth with a lively zest, pulling together streaks of lemon, lime, nectarine and apricot, accented with citrus rind and wet rock, honey and lemon tea.',\n",
       "        b'This wine has a bouquet of black cherry, oregano and lavender. Flavors of cherry, cranberry, thyme, mocha and leather are supported by strong but smooth tannins, and the finish is equal parts savory and tart.',\n",
       "        b'Crafted from the oldest vines in one of the oldest vineyards in the Walla Walla Valley, this displays lovely aromatics of leaf, herb, earth and wild berry. Tight and contained, it opens into a focused, lively wine with great acidity. It has the potential to age well for a decade or more.',\n",
       "        b\"This is a severely oaked wine that sizzles and smokes with aromas of campfire, creosote, road tar and coconut. On the palate, it's concentrated but also brutish. Roasted oaky black-fruit flavors echo the nose, while mint and chocolate dominate the finish. Time can only help this come around.\",\n",
       "        b'Pretty and forward, this lovely wine bursts forth with raspberry and sweet cherry tomato fruit flavors. A slight mintiness can also be detected, all within the context of an impeccably balanced, firm, pleasingly acidic young red wine.',\n",
       "        b'The powerful herbaceousness of Sauvignon Blanc dominates, giving a bitter character to this wine and leaving the gentle crispness of Arinto in its wake. Maybe a year will help.',\n",
       "        b'Among the most iconic Champagnes, this wine always reflects its vintage. In this 2007, coming from a good, not great year, the wine is developing more quickly than is sometimes the case. It is now showing as a beautiful, balanced wine ripe with apples while also hinting at almonds and a yeasty character. The wine has such style, elegant with its fragrant acidity and complex structure.',\n",
       "        b\"This is a simple, rather generic white wine. The fruit is clean with an impression of light spice around flavors of apple and pear. It's a useful, all-purpose, fruity quaffer.\",\n",
       "        b\"This is a very limited bottling of 80% Cabernet Franc and 20% Merlot. Roughly half spent time in new French oak, which brings a lovely toasty note into the foreground. There's a slight, not unpleasant funkiness, along with dusty baking spices, black cherry and currant, and a chunk of dark chocolate. It's big, bold and delicious, and drinking quite well at the moment.\",\n",
       "        b'Toasted oak and vanilla are noticeably present on the palate and nose of this wine, which evolves in the glass to take on a more tropical feel and tastes of ripe pineapple and guava. Medium to light in texture, it finishes smoothly and flat.',\n",
       "        b\"Not too dissimilar from an Italian Moscato d'Asti, this offers exotic scents of oranges and tropical fruit. It's a bit sweet, but balanced in part by the bubbles. This would be great at brunch, or served on its own.\",\n",
       "        b\"Initially, this is a richly ripe wine with tropical fruit flavors. It also has an immense sense of structure that supports the fruit impressively. It's dense, concentrated, exuding power and solidity, while always keeping a sense of elegance. Drink from 2018.\",\n",
       "        b'While bright and fresh with fruit, this robust structured ros\\xc3\\xa9 offers enough substance to thrive beyond a summer season. Dry and sprightly, it offers crisp raspberry and cherry flavors nuanced by complexities of garrigue and earth. A pleasant bite of tannins elongates the finish.',\n",
       "        b'Noticeably herbal, this Cabernet, a good deal at its price point, is rich and the right call for midweek pizza or other casual fare.',\n",
       "        b'This shows the acidity, dryness and body that often mark Merlot from California. The flavors are complex, showing sour cherry and blackberry richness with quite a bit of herbaceousness. Appreciation of this wine demands some participation on the part of the drinker.',\n",
       "        b\"This wine's charred nose suggests over-the-top oak. The palate is a rough road of hard grape skin tannins. Char and clove flavors blanket its savory, meaty berry fruit, finishing woody and redolent of clove.\",\n",
       "        b'Dusty apple aromas set up a foamy palate with no depth or structure. This tastes of bready apple and pear in front of a bland, yeasty finish that nose dives at the count of three.',\n",
       "        b'With pert acidity and candied pineapple and lemon flavors, this wine has the taste of a sweet-and-sour cough drop. It straddles the line between dry and off-dry.',\n",
       "        b'One of the most beautiful package designs in the state introduces a fresh and toasty wine that translates this cool, wet vintage into a most delicate and enjoyable bottle of Pinot. Light cranberry and cherry fruit is set in a gently proportional bed of tart acid and pretty oak, 40% new.',\n",
       "        b'Brambly berry fruit is dotted with highlights of black pepper and tart tangy herbs. The acids are way out in front of the fruit, delivering a citrusy, lightly toasty kick to the finish.',\n",
       "        b'This offers aromas suggesting mature apple, citrus, hazelnut and a whiff of dried herb. The rich, full-bodied palate doles out candied nectarine zest and ripe pear while a mineral note lifts the finish.',\n",
       "        b'Bone dry and tart in citrusy acidity, this is a Chablis-style Chardonnay. It has a firm minerality grounding clean flavors of sour pineapple candy, with richer notes of vanilla and smoky oak. Elegant and food-friendly.',\n",
       "        b\"Ripe aromas of black plum, blueberry and charcoal lead to a palate that's muscular and full-bodied. Dark, peppery, slightly bitter flavors of toasted blackberry and prune end with burnt notes and black pepper along with grabby, rubbery tannins.\",\n",
       "        b'Lovely cinnamon-tinged blueberry and plum notes rise enticingly from the glass. The palate is firm and fresh, cracking with taut, ripe plum and cherry fruit. This is fresh-faced and honest red with just the right amount of grip and structure. The finish is beautifully clean.',\n",
       "        b\"Soft, thin and simple. Other than that, it's not bad, with proper blackberry and spice flavors and smooth tannins. Give it greater concentration, and the score would rise.\"],\n",
       "       dtype=object)>,\n",
       " <tf.Tensor: shape=(32,), dtype=int32, numpy=\n",
       " array([1, 0, 0, 0, 1, 0, 0, 1, 0, 1, 0, 1, 0, 1, 0, 1, 0, 0, 1, 1, 0, 0,\n",
       "        0, 0, 0, 1, 0, 0, 0, 0, 1, 0])>)"
      ]
     },
     "execution_count": 47,
     "metadata": {},
     "output_type": "execute_result"
    }
   ],
   "source": [
    "list(train_data)[0]"
   ]
  },
  {
   "cell_type": "code",
   "execution_count": 12,
   "metadata": {},
   "outputs": [],
   "source": [
    "embedding = \"https://tfhub.dev/google/nnlm-en-dim50/2\"\n",
    "hub_layer = hub.KerasLayer(embedding, dtype=tf.string, trainable=True)\n",
    "# if this doesn't work:\n",
    "# delete the folder which it says has missing files\n"
   ]
  },
  {
   "cell_type": "code",
   "execution_count": 48,
   "metadata": {},
   "outputs": [
    {
     "data": {
      "text/plain": [
       "<tf.Tensor: shape=(32, 50), dtype=float32, numpy=\n",
       "array([[ 0.6689758 ,  0.16576575, -0.13521467, ...,  0.13946126,\n",
       "         0.13851921,  0.16855039],\n",
       "       [ 0.3200059 ,  0.11339432,  0.00902018, ..., -0.05253916,\n",
       "        -0.10325631,  0.28757682],\n",
       "       [ 0.29409456,  0.01803284,  0.14000809, ...,  0.14291401,\n",
       "        -0.09585661,  0.07713935],\n",
       "       ...,\n",
       "       [ 0.31363404, -0.09501137,  0.07085366, ..., -0.02226255,\n",
       "         0.07415194,  0.19731054],\n",
       "       [ 0.39786163, -0.17449933, -0.04776595, ..., -0.02454607,\n",
       "         0.09373444,  0.09938257],\n",
       "       [ 0.22535513, -0.19957462, -0.07883631, ...,  0.22048974,\n",
       "         0.24652386,  0.18409798]], dtype=float32)>"
      ]
     },
     "execution_count": 48,
     "metadata": {},
     "output_type": "execute_result"
    }
   ],
   "source": [
    "hub_layer(list(train_data)[0][0])"
   ]
  },
  {
   "cell_type": "code",
   "execution_count": 14,
   "metadata": {},
   "outputs": [],
   "source": [
    "model = tf.keras.Sequential()\n",
    "model.add(hub_layer)\n",
    "model.add(tf.keras.layers.Dense(16, activation=\"relu\"))\n",
    "model.add(tf.keras.layers.Dropout(0.4))\n",
    "model.add(tf.keras.layers.Dense(16, activation=\"relu\"))\n",
    "model.add(tf.keras.layers.Dropout(0.4))\n",
    "model.add(tf.keras.layers.Dense(1, activation=\"sigmoid\"))"
   ]
  },
  {
   "cell_type": "code",
   "execution_count": 15,
   "metadata": {},
   "outputs": [],
   "source": [
    "import os\n",
    "\n",
    "# Include the epoch in the file name (uses `str.format`)\n",
    "checkpoint_path = \"training_2/cp-{epoch:04d}.ckpt\"\n",
    "checkpoint_dir = os.path.dirname(checkpoint_path)\n",
    "\n",
    "batch_size = 256\n",
    "\n",
    "n_batches = 10\n",
    "\n",
    "# Create a callback that saves the model's weights every 5 epochs\n",
    "cp_callback = tf.keras.callbacks.ModelCheckpoint(\n",
    "    filepath=checkpoint_path, \n",
    "    verbose=1, \n",
    "    save_weights_only=True,\n",
    "    save_freq=5*n_batches)"
   ]
  },
  {
   "cell_type": "code",
   "execution_count": 16,
   "metadata": {},
   "outputs": [],
   "source": [
    "model.compile(optimizer=tf.keras.optimizers.Adam(learning_rate=0.001), \n",
    "              loss=tf.keras.losses.BinaryCrossentropy(),\n",
    "              metrics=['accuracy'])"
   ]
  },
  {
   "cell_type": "code",
   "execution_count": 17,
   "metadata": {},
   "outputs": [
    {
     "name": "stdout",
     "output_type": "stream",
     "text": [
      "3250/3250 [==============================] - 3s 793us/step - loss: 0.6983 - accuracy: 0.4512\n"
     ]
    },
    {
     "data": {
      "text/plain": [
       "[0.6982524991035461, 0.45119065046310425]"
      ]
     },
     "execution_count": 17,
     "metadata": {},
     "output_type": "execute_result"
    }
   ],
   "source": [
    "model.evaluate(train_data)"
   ]
  },
  {
   "cell_type": "code",
   "execution_count": 18,
   "metadata": {},
   "outputs": [
    {
     "name": "stdout",
     "output_type": "stream",
     "text": [
      "407/407 [==============================] - 0s 791us/step - loss: 0.6983 - accuracy: 0.4543\n"
     ]
    },
    {
     "data": {
      "text/plain": [
       "[0.6982635855674744, 0.45425868034362793]"
      ]
     },
     "execution_count": 18,
     "metadata": {},
     "output_type": "execute_result"
    }
   ],
   "source": [
    "model.evaluate(valid_data)"
   ]
  },
  {
   "cell_type": "code",
   "execution_count": 19,
   "metadata": {},
   "outputs": [
    {
     "name": "stdout",
     "output_type": "stream",
     "text": [
      "Epoch 1/2\n",
      "  49/3250 [..............................] - ETA: 13:08 - loss: 0.6792 - accuracy: 0.5791\n",
      "Epoch 1: saving model to training_2\\cp-0001.ckpt\n",
      "  99/3250 [..............................] - ETA: 13:17 - loss: 0.6718 - accuracy: 0.5966\n",
      "Epoch 1: saving model to training_2\\cp-0001.ckpt\n",
      " 149/3250 [>.............................] - ETA: 13:07 - loss: 0.6662 - accuracy: 0.6061\n",
      "Epoch 1: saving model to training_2\\cp-0001.ckpt\n",
      " 199/3250 [>.............................] - ETA: 12:59 - loss: 0.6567 - accuracy: 0.6162\n",
      "Epoch 1: saving model to training_2\\cp-0001.ckpt\n",
      " 249/3250 [=>............................] - ETA: 12:49 - loss: 0.6456 - accuracy: 0.6261\n",
      "Epoch 1: saving model to training_2\\cp-0001.ckpt\n",
      " 299/3250 [=>............................] - ETA: 12:41 - loss: 0.6362 - accuracy: 0.6344\n",
      "Epoch 1: saving model to training_2\\cp-0001.ckpt\n",
      " 349/3250 [==>...........................] - ETA: 12:32 - loss: 0.6260 - accuracy: 0.6445\n",
      "Epoch 1: saving model to training_2\\cp-0001.ckpt\n",
      " 399/3250 [==>...........................] - ETA: 12:23 - loss: 0.6138 - accuracy: 0.6549\n",
      "Epoch 1: saving model to training_2\\cp-0001.ckpt\n",
      " 449/3250 [===>..........................] - ETA: 12:09 - loss: 0.6040 - accuracy: 0.6627\n",
      "Epoch 1: saving model to training_2\\cp-0001.ckpt\n",
      " 499/3250 [===>..........................] - ETA: 11:57 - loss: 0.5945 - accuracy: 0.6681\n",
      "Epoch 1: saving model to training_2\\cp-0001.ckpt\n",
      " 549/3250 [====>.........................] - ETA: 11:46 - loss: 0.5851 - accuracy: 0.6755\n",
      "Epoch 1: saving model to training_2\\cp-0001.ckpt\n",
      " 599/3250 [====>.........................] - ETA: 11:34 - loss: 0.5803 - accuracy: 0.6783\n",
      "Epoch 1: saving model to training_2\\cp-0001.ckpt\n",
      " 649/3250 [====>.........................] - ETA: 11:23 - loss: 0.5738 - accuracy: 0.6839\n",
      "Epoch 1: saving model to training_2\\cp-0001.ckpt\n",
      " 699/3250 [=====>........................] - ETA: 11:13 - loss: 0.5670 - accuracy: 0.6889\n",
      "Epoch 1: saving model to training_2\\cp-0001.ckpt\n",
      " 749/3250 [=====>........................] - ETA: 11:02 - loss: 0.5599 - accuracy: 0.6945\n",
      "Epoch 1: saving model to training_2\\cp-0001.ckpt\n",
      " 799/3250 [======>.......................] - ETA: 10:49 - loss: 0.5560 - accuracy: 0.6984\n",
      "Epoch 1: saving model to training_2\\cp-0001.ckpt\n",
      " 849/3250 [======>.......................] - ETA: 10:35 - loss: 0.5513 - accuracy: 0.7024\n",
      "Epoch 1: saving model to training_2\\cp-0001.ckpt\n",
      " 899/3250 [=======>......................] - ETA: 10:22 - loss: 0.5458 - accuracy: 0.7072\n",
      "Epoch 1: saving model to training_2\\cp-0001.ckpt\n",
      " 949/3250 [=======>......................] - ETA: 10:09 - loss: 0.5405 - accuracy: 0.7119\n",
      "Epoch 1: saving model to training_2\\cp-0001.ckpt\n",
      " 999/3250 [========>.....................] - ETA: 9:56 - loss: 0.5369 - accuracy: 0.7155\n",
      "Epoch 1: saving model to training_2\\cp-0001.ckpt\n",
      "1049/3250 [========>.....................] - ETA: 9:43 - loss: 0.5335 - accuracy: 0.7186\n",
      "Epoch 1: saving model to training_2\\cp-0001.ckpt\n",
      "1099/3250 [=========>....................] - ETA: 9:29 - loss: 0.5302 - accuracy: 0.7217\n",
      "Epoch 1: saving model to training_2\\cp-0001.ckpt\n",
      "1149/3250 [=========>....................] - ETA: 9:17 - loss: 0.5260 - accuracy: 0.7247\n",
      "Epoch 1: saving model to training_2\\cp-0001.ckpt\n",
      "1199/3250 [==========>...................] - ETA: 9:04 - loss: 0.5238 - accuracy: 0.7269\n",
      "Epoch 1: saving model to training_2\\cp-0001.ckpt\n",
      "1249/3250 [==========>...................] - ETA: 8:52 - loss: 0.5212 - accuracy: 0.7291\n",
      "Epoch 1: saving model to training_2\\cp-0001.ckpt\n",
      "1299/3250 [==========>...................] - ETA: 8:39 - loss: 0.5187 - accuracy: 0.7314\n",
      "Epoch 1: saving model to training_2\\cp-0001.ckpt\n",
      "1349/3250 [===========>..................] - ETA: 8:26 - loss: 0.5160 - accuracy: 0.7339\n",
      "Epoch 1: saving model to training_2\\cp-0001.ckpt\n",
      "1399/3250 [===========>..................] - ETA: 8:13 - loss: 0.5131 - accuracy: 0.7365\n",
      "Epoch 1: saving model to training_2\\cp-0001.ckpt\n",
      "1449/3250 [============>.................] - ETA: 8:00 - loss: 0.5108 - accuracy: 0.7383\n",
      "Epoch 1: saving model to training_2\\cp-0001.ckpt\n",
      "1499/3250 [============>.................] - ETA: 7:46 - loss: 0.5085 - accuracy: 0.7402\n",
      "Epoch 1: saving model to training_2\\cp-0001.ckpt\n",
      "1549/3250 [=============>................] - ETA: 7:33 - loss: 0.5057 - accuracy: 0.7424\n",
      "Epoch 1: saving model to training_2\\cp-0001.ckpt\n",
      "1599/3250 [=============>................] - ETA: 7:20 - loss: 0.5037 - accuracy: 0.7444\n",
      "Epoch 1: saving model to training_2\\cp-0001.ckpt\n",
      "1649/3250 [==============>...............] - ETA: 7:07 - loss: 0.5017 - accuracy: 0.7461\n",
      "Epoch 1: saving model to training_2\\cp-0001.ckpt\n",
      "1699/3250 [==============>...............] - ETA: 6:54 - loss: 0.5004 - accuracy: 0.7471\n",
      "Epoch 1: saving model to training_2\\cp-0001.ckpt\n",
      "1749/3250 [===============>..............] - ETA: 6:41 - loss: 0.4983 - accuracy: 0.7488\n",
      "Epoch 1: saving model to training_2\\cp-0001.ckpt\n",
      "1799/3250 [===============>..............] - ETA: 6:28 - loss: 0.4967 - accuracy: 0.7498\n",
      "Epoch 1: saving model to training_2\\cp-0001.ckpt\n",
      "1849/3250 [================>.............] - ETA: 6:15 - loss: 0.4955 - accuracy: 0.7506\n",
      "Epoch 1: saving model to training_2\\cp-0001.ckpt\n",
      "1899/3250 [================>.............] - ETA: 6:02 - loss: 0.4938 - accuracy: 0.7519\n",
      "Epoch 1: saving model to training_2\\cp-0001.ckpt\n",
      "1949/3250 [================>.............] - ETA: 5:48 - loss: 0.4925 - accuracy: 0.7530\n",
      "Epoch 1: saving model to training_2\\cp-0001.ckpt\n",
      "1999/3250 [=================>............] - ETA: 5:35 - loss: 0.4909 - accuracy: 0.7540\n",
      "Epoch 1: saving model to training_2\\cp-0001.ckpt\n",
      "2049/3250 [=================>............] - ETA: 5:22 - loss: 0.4893 - accuracy: 0.7554\n",
      "Epoch 1: saving model to training_2\\cp-0001.ckpt\n",
      "2099/3250 [==================>...........] - ETA: 5:08 - loss: 0.4879 - accuracy: 0.7563\n",
      "Epoch 1: saving model to training_2\\cp-0001.ckpt\n",
      "2149/3250 [==================>...........] - ETA: 4:55 - loss: 0.4865 - accuracy: 0.7570\n",
      "Epoch 1: saving model to training_2\\cp-0001.ckpt\n",
      "2199/3250 [===================>..........] - ETA: 4:41 - loss: 0.4862 - accuracy: 0.7579\n",
      "Epoch 1: saving model to training_2\\cp-0001.ckpt\n",
      "2249/3250 [===================>..........] - ETA: 4:28 - loss: 0.4853 - accuracy: 0.7587\n",
      "Epoch 1: saving model to training_2\\cp-0001.ckpt\n",
      "2299/3250 [====================>.........] - ETA: 4:15 - loss: 0.4845 - accuracy: 0.7594\n",
      "Epoch 1: saving model to training_2\\cp-0001.ckpt\n",
      "2349/3250 [====================>.........] - ETA: 4:01 - loss: 0.4832 - accuracy: 0.7602\n",
      "Epoch 1: saving model to training_2\\cp-0001.ckpt\n",
      "2399/3250 [=====================>........] - ETA: 3:48 - loss: 0.4817 - accuracy: 0.7612\n",
      "Epoch 1: saving model to training_2\\cp-0001.ckpt\n",
      "2449/3250 [=====================>........] - ETA: 3:34 - loss: 0.4804 - accuracy: 0.7624\n",
      "Epoch 1: saving model to training_2\\cp-0001.ckpt\n",
      "2499/3250 [======================>.......] - ETA: 3:21 - loss: 0.4792 - accuracy: 0.7632\n",
      "Epoch 1: saving model to training_2\\cp-0001.ckpt\n",
      "2549/3250 [======================>.......] - ETA: 3:08 - loss: 0.4779 - accuracy: 0.7639\n",
      "Epoch 1: saving model to training_2\\cp-0001.ckpt\n",
      "2599/3250 [======================>.......] - ETA: 2:54 - loss: 0.4763 - accuracy: 0.7649\n",
      "Epoch 1: saving model to training_2\\cp-0001.ckpt\n",
      "2649/3250 [=======================>......] - ETA: 2:41 - loss: 0.4755 - accuracy: 0.7657\n",
      "Epoch 1: saving model to training_2\\cp-0001.ckpt\n",
      "2699/3250 [=======================>......] - ETA: 2:27 - loss: 0.4743 - accuracy: 0.7666\n",
      "Epoch 1: saving model to training_2\\cp-0001.ckpt\n",
      "2749/3250 [========================>.....] - ETA: 2:14 - loss: 0.4735 - accuracy: 0.7674\n",
      "Epoch 1: saving model to training_2\\cp-0001.ckpt\n",
      "2799/3250 [========================>.....] - ETA: 2:01 - loss: 0.4723 - accuracy: 0.7683\n",
      "Epoch 1: saving model to training_2\\cp-0001.ckpt\n",
      "2849/3250 [=========================>....] - ETA: 1:47 - loss: 0.4713 - accuracy: 0.7691\n",
      "Epoch 1: saving model to training_2\\cp-0001.ckpt\n",
      "2899/3250 [=========================>....] - ETA: 1:34 - loss: 0.4702 - accuracy: 0.7698\n",
      "Epoch 1: saving model to training_2\\cp-0001.ckpt\n",
      "2949/3250 [==========================>...] - ETA: 1:20 - loss: 0.4694 - accuracy: 0.7703\n",
      "Epoch 1: saving model to training_2\\cp-0001.ckpt\n",
      "2999/3250 [==========================>...] - ETA: 1:07 - loss: 0.4682 - accuracy: 0.7714\n",
      "Epoch 1: saving model to training_2\\cp-0001.ckpt\n",
      "3049/3250 [===========================>..] - ETA: 53s - loss: 0.4680 - accuracy: 0.7719\n",
      "Epoch 1: saving model to training_2\\cp-0001.ckpt\n",
      "3099/3250 [===========================>..] - ETA: 40s - loss: 0.4672 - accuracy: 0.7724\n",
      "Epoch 1: saving model to training_2\\cp-0001.ckpt\n",
      "3149/3250 [============================>.] - ETA: 27s - loss: 0.4667 - accuracy: 0.7730\n",
      "Epoch 1: saving model to training_2\\cp-0001.ckpt\n",
      "3199/3250 [============================>.] - ETA: 13s - loss: 0.4656 - accuracy: 0.7736\n",
      "Epoch 1: saving model to training_2\\cp-0001.ckpt\n",
      "3249/3250 [============================>.] - ETA: 0s - loss: 0.4651 - accuracy: 0.7741\n",
      "Epoch 1: saving model to training_2\\cp-0001.ckpt\n",
      "3250/3250 [==============================] - 874s 269ms/step - loss: 0.4652 - accuracy: 0.7741 - val_loss: 0.3802 - val_accuracy: 0.8249\n",
      "Epoch 2/2\n",
      "  49/3250 [..............................] - ETA: 13:49 - loss: 0.3526 - accuracy: 0.8469\n",
      "Epoch 2: saving model to training_2\\cp-0002.ckpt\n",
      "  99/3250 [..............................] - ETA: 13:57 - loss: 0.3688 - accuracy: 0.8355\n",
      "Epoch 2: saving model to training_2\\cp-0002.ckpt\n",
      " 149/3250 [>.............................] - ETA: 13:51 - loss: 0.3649 - accuracy: 0.8349\n",
      "Epoch 2: saving model to training_2\\cp-0002.ckpt\n",
      " 199/3250 [>.............................] - ETA: 13:40 - loss: 0.3651 - accuracy: 0.8362\n",
      "Epoch 2: saving model to training_2\\cp-0002.ckpt\n",
      " 249/3250 [=>............................] - ETA: 13:28 - loss: 0.3665 - accuracy: 0.8358\n",
      "Epoch 2: saving model to training_2\\cp-0002.ckpt\n",
      " 299/3250 [=>............................] - ETA: 13:17 - loss: 0.3661 - accuracy: 0.8362\n",
      "Epoch 2: saving model to training_2\\cp-0002.ckpt\n",
      " 349/3250 [==>...........................] - ETA: 13:05 - loss: 0.3641 - accuracy: 0.8383\n",
      "Epoch 2: saving model to training_2\\cp-0002.ckpt\n",
      " 399/3250 [==>...........................] - ETA: 12:52 - loss: 0.3649 - accuracy: 0.8377\n",
      "Epoch 2: saving model to training_2\\cp-0002.ckpt\n",
      " 449/3250 [===>..........................] - ETA: 12:39 - loss: 0.3637 - accuracy: 0.8383\n",
      "Epoch 2: saving model to training_2\\cp-0002.ckpt\n",
      " 499/3250 [===>..........................] - ETA: 12:25 - loss: 0.3663 - accuracy: 0.8384\n",
      "Epoch 2: saving model to training_2\\cp-0002.ckpt\n",
      " 549/3250 [====>.........................] - ETA: 12:12 - loss: 0.3667 - accuracy: 0.8388\n",
      "Epoch 2: saving model to training_2\\cp-0002.ckpt\n",
      " 599/3250 [====>.........................] - ETA: 11:59 - loss: 0.3687 - accuracy: 0.8386\n",
      "Epoch 2: saving model to training_2\\cp-0002.ckpt\n",
      " 649/3250 [====>.........................] - ETA: 11:45 - loss: 0.3666 - accuracy: 0.8389\n",
      "Epoch 2: saving model to training_2\\cp-0002.ckpt\n",
      " 699/3250 [=====>........................] - ETA: 11:31 - loss: 0.3657 - accuracy: 0.8399\n",
      "Epoch 2: saving model to training_2\\cp-0002.ckpt\n",
      " 749/3250 [=====>........................] - ETA: 11:18 - loss: 0.3650 - accuracy: 0.8407\n",
      "Epoch 2: saving model to training_2\\cp-0002.ckpt\n",
      " 799/3250 [======>.......................] - ETA: 11:05 - loss: 0.3649 - accuracy: 0.8402\n",
      "Epoch 2: saving model to training_2\\cp-0002.ckpt\n",
      " 849/3250 [======>.......................] - ETA: 10:51 - loss: 0.3653 - accuracy: 0.8400\n",
      "Epoch 2: saving model to training_2\\cp-0002.ckpt\n",
      " 899/3250 [=======>......................] - ETA: 10:37 - loss: 0.3659 - accuracy: 0.8392\n",
      "Epoch 2: saving model to training_2\\cp-0002.ckpt\n",
      " 949/3250 [=======>......................] - ETA: 10:23 - loss: 0.3663 - accuracy: 0.8394\n",
      "Epoch 2: saving model to training_2\\cp-0002.ckpt\n",
      " 999/3250 [========>.....................] - ETA: 10:09 - loss: 0.3663 - accuracy: 0.8397\n",
      "Epoch 2: saving model to training_2\\cp-0002.ckpt\n",
      "1049/3250 [========>.....................] - ETA: 9:56 - loss: 0.3675 - accuracy: 0.8390\n",
      "Epoch 2: saving model to training_2\\cp-0002.ckpt\n",
      "1099/3250 [=========>....................] - ETA: 9:42 - loss: 0.3680 - accuracy: 0.8387\n",
      "Epoch 2: saving model to training_2\\cp-0002.ckpt\n",
      "1149/3250 [=========>....................] - ETA: 9:28 - loss: 0.3690 - accuracy: 0.8381\n",
      "Epoch 2: saving model to training_2\\cp-0002.ckpt\n",
      "1199/3250 [==========>...................] - ETA: 9:14 - loss: 0.3682 - accuracy: 0.8385\n",
      "Epoch 2: saving model to training_2\\cp-0002.ckpt\n",
      "1249/3250 [==========>...................] - ETA: 9:01 - loss: 0.3693 - accuracy: 0.8377\n",
      "Epoch 2: saving model to training_2\\cp-0002.ckpt\n",
      "1299/3250 [==========>...................] - ETA: 8:47 - loss: 0.3700 - accuracy: 0.8370\n",
      "Epoch 2: saving model to training_2\\cp-0002.ckpt\n",
      "1349/3250 [===========>..................] - ETA: 8:33 - loss: 0.3696 - accuracy: 0.8370\n",
      "Epoch 2: saving model to training_2\\cp-0002.ckpt\n",
      "1399/3250 [===========>..................] - ETA: 8:19 - loss: 0.3695 - accuracy: 0.8370\n",
      "Epoch 2: saving model to training_2\\cp-0002.ckpt\n",
      "1449/3250 [============>.................] - ETA: 8:05 - loss: 0.3692 - accuracy: 0.8370\n",
      "Epoch 2: saving model to training_2\\cp-0002.ckpt\n",
      "1499/3250 [============>.................] - ETA: 7:51 - loss: 0.3691 - accuracy: 0.8370\n",
      "Epoch 2: saving model to training_2\\cp-0002.ckpt\n",
      "1549/3250 [=============>................] - ETA: 7:37 - loss: 0.3686 - accuracy: 0.8370\n",
      "Epoch 2: saving model to training_2\\cp-0002.ckpt\n",
      "1599/3250 [=============>................] - ETA: 7:24 - loss: 0.3685 - accuracy: 0.8372\n",
      "Epoch 2: saving model to training_2\\cp-0002.ckpt\n",
      "1649/3250 [==============>...............] - ETA: 7:11 - loss: 0.3687 - accuracy: 0.8371\n",
      "Epoch 2: saving model to training_2\\cp-0002.ckpt\n",
      "1699/3250 [==============>...............] - ETA: 6:57 - loss: 0.3700 - accuracy: 0.8362\n",
      "Epoch 2: saving model to training_2\\cp-0002.ckpt\n",
      "1749/3250 [===============>..............] - ETA: 6:43 - loss: 0.3701 - accuracy: 0.8359\n",
      "Epoch 2: saving model to training_2\\cp-0002.ckpt\n",
      "1799/3250 [===============>..............] - ETA: 6:29 - loss: 0.3704 - accuracy: 0.8356\n",
      "Epoch 2: saving model to training_2\\cp-0002.ckpt\n",
      "1849/3250 [================>.............] - ETA: 6:16 - loss: 0.3705 - accuracy: 0.8355\n",
      "Epoch 2: saving model to training_2\\cp-0002.ckpt\n",
      "1899/3250 [================>.............] - ETA: 6:02 - loss: 0.3695 - accuracy: 0.8360\n",
      "Epoch 2: saving model to training_2\\cp-0002.ckpt\n",
      "1949/3250 [================>.............] - ETA: 5:48 - loss: 0.3699 - accuracy: 0.8359\n",
      "Epoch 2: saving model to training_2\\cp-0002.ckpt\n",
      "1999/3250 [=================>............] - ETA: 5:35 - loss: 0.3701 - accuracy: 0.8357\n",
      "Epoch 2: saving model to training_2\\cp-0002.ckpt\n",
      "2049/3250 [=================>............] - ETA: 5:21 - loss: 0.3699 - accuracy: 0.8358\n",
      "Epoch 2: saving model to training_2\\cp-0002.ckpt\n",
      "2099/3250 [==================>...........] - ETA: 5:08 - loss: 0.3697 - accuracy: 0.8361\n",
      "Epoch 2: saving model to training_2\\cp-0002.ckpt\n",
      "2149/3250 [==================>...........] - ETA: 4:54 - loss: 0.3696 - accuracy: 0.8362\n",
      "Epoch 2: saving model to training_2\\cp-0002.ckpt\n",
      "2199/3250 [===================>..........] - ETA: 4:41 - loss: 0.3698 - accuracy: 0.8358\n",
      "Epoch 2: saving model to training_2\\cp-0002.ckpt\n",
      "2249/3250 [===================>..........] - ETA: 4:27 - loss: 0.3703 - accuracy: 0.8355\n",
      "Epoch 2: saving model to training_2\\cp-0002.ckpt\n",
      "2299/3250 [====================>.........] - ETA: 4:14 - loss: 0.3706 - accuracy: 0.8355\n",
      "Epoch 2: saving model to training_2\\cp-0002.ckpt\n",
      "2349/3250 [====================>.........] - ETA: 4:00 - loss: 0.3708 - accuracy: 0.8355\n",
      "Epoch 2: saving model to training_2\\cp-0002.ckpt\n",
      "2399/3250 [=====================>........] - ETA: 3:47 - loss: 0.3710 - accuracy: 0.8355\n",
      "Epoch 2: saving model to training_2\\cp-0002.ckpt\n",
      "2449/3250 [=====================>........] - ETA: 3:33 - loss: 0.3702 - accuracy: 0.8360\n",
      "Epoch 2: saving model to training_2\\cp-0002.ckpt\n",
      "2499/3250 [======================>.......] - ETA: 3:20 - loss: 0.3695 - accuracy: 0.8361\n",
      "Epoch 2: saving model to training_2\\cp-0002.ckpt\n",
      "2549/3250 [======================>.......] - ETA: 3:06 - loss: 0.3690 - accuracy: 0.8362\n",
      "Epoch 2: saving model to training_2\\cp-0002.ckpt\n",
      "2599/3250 [======================>.......] - ETA: 2:53 - loss: 0.3692 - accuracy: 0.8360\n",
      "Epoch 2: saving model to training_2\\cp-0002.ckpt\n",
      "2649/3250 [=======================>......] - ETA: 2:40 - loss: 0.3692 - accuracy: 0.8360\n",
      "Epoch 2: saving model to training_2\\cp-0002.ckpt\n",
      "2699/3250 [=======================>......] - ETA: 2:26 - loss: 0.3692 - accuracy: 0.8358\n",
      "Epoch 2: saving model to training_2\\cp-0002.ckpt\n",
      "2749/3250 [========================>.....] - ETA: 2:13 - loss: 0.3696 - accuracy: 0.8352\n",
      "Epoch 2: saving model to training_2\\cp-0002.ckpt\n",
      "2799/3250 [========================>.....] - ETA: 2:00 - loss: 0.3695 - accuracy: 0.8354\n",
      "Epoch 2: saving model to training_2\\cp-0002.ckpt\n",
      "2849/3250 [=========================>....] - ETA: 1:46 - loss: 0.3697 - accuracy: 0.8352\n",
      "Epoch 2: saving model to training_2\\cp-0002.ckpt\n",
      "2899/3250 [=========================>....] - ETA: 1:33 - loss: 0.3696 - accuracy: 0.8353\n",
      "Epoch 2: saving model to training_2\\cp-0002.ckpt\n",
      "2949/3250 [==========================>...] - ETA: 1:20 - loss: 0.3692 - accuracy: 0.8353\n",
      "Epoch 2: saving model to training_2\\cp-0002.ckpt\n",
      "2999/3250 [==========================>...] - ETA: 1:06 - loss: 0.3696 - accuracy: 0.8350\n",
      "Epoch 2: saving model to training_2\\cp-0002.ckpt\n",
      "3049/3250 [===========================>..] - ETA: 53s - loss: 0.3695 - accuracy: 0.8350\n",
      "Epoch 2: saving model to training_2\\cp-0002.ckpt\n",
      "3099/3250 [===========================>..] - ETA: 40s - loss: 0.3690 - accuracy: 0.8352\n",
      "Epoch 2: saving model to training_2\\cp-0002.ckpt\n",
      "3149/3250 [============================>.] - ETA: 26s - loss: 0.3692 - accuracy: 0.8352\n",
      "Epoch 2: saving model to training_2\\cp-0002.ckpt\n",
      "3199/3250 [============================>.] - ETA: 13s - loss: 0.3688 - accuracy: 0.8355\n",
      "Epoch 2: saving model to training_2\\cp-0002.ckpt\n",
      "3249/3250 [============================>.] - ETA: 0s - loss: 0.3686 - accuracy: 0.8355\n",
      "Epoch 2: saving model to training_2\\cp-0002.ckpt\n",
      "3250/3250 [==============================] - 864s 266ms/step - loss: 0.3686 - accuracy: 0.8355 - val_loss: 0.3726 - val_accuracy: 0.8310\n"
     ]
    }
   ],
   "source": [
    "history = model.fit(train_data, epochs=10, validation_data=valid_data, callbacks=[cp_callback])"
   ]
  },
  {
   "cell_type": "code",
   "execution_count": 20,
   "metadata": {},
   "outputs": [
    {
     "name": "stdout",
     "output_type": "stream",
     "text": [
      " 55/407 [===>..........................] - ETA: 0s - loss: 0.3734 - accuracy: 0.8352"
     ]
    },
    {
     "name": "stdout",
     "output_type": "stream",
     "text": [
      "407/407 [==============================] - 0s 951us/step - loss: 0.3781 - accuracy: 0.8301\n"
     ]
    },
    {
     "data": {
      "text/plain": [
       "[0.37813234329223633, 0.8300507664680481]"
      ]
     },
     "execution_count": 20,
     "metadata": {},
     "output_type": "execute_result"
    }
   ],
   "source": [
    "model.evaluate(test_data)"
   ]
  },
  {
   "cell_type": "code",
   "execution_count": 30,
   "metadata": {},
   "outputs": [
    {
     "name": "stdout",
     "output_type": "stream",
     "text": [
      "407/407 [==============================] - 1s 882us/step - loss: 0.3781 - accuracy: 0.8301\n"
     ]
    },
    {
     "data": {
      "text/plain": [
       "[0.3781324625015259, 0.8300507664680481]"
      ]
     },
     "execution_count": 30,
     "metadata": {},
     "output_type": "execute_result"
    }
   ],
   "source": [
    "# save model in file to load at a later date\n",
    "# model.save(\"model2.h5\")\n",
    "# model.save_weights(\"model2_weights\")\n",
    "\n",
    "# load model from file\n",
    "latest = tf.train.latest_checkpoint(checkpoint_dir=\"training_2\")\n",
    "model2 = tf.keras.Sequential()\n",
    "model2.add(hub_layer)\n",
    "model2.add(tf.keras.layers.Dense(16, activation=\"relu\"))\n",
    "model2.add(tf.keras.layers.Dropout(0.4))\n",
    "model2.add(tf.keras.layers.Dense(16, activation=\"relu\"))\n",
    "model2.add(tf.keras.layers.Dropout(0.4))\n",
    "model2.add(tf.keras.layers.Dense(1, activation=\"sigmoid\")) \n",
    "model2.compile(optimizer=tf.keras.optimizers.Adam(learning_rate=0.001), \n",
    "              loss=tf.keras.losses.BinaryCrossentropy(),\n",
    "              metrics=['accuracy'])\n",
    "model2.load_weights(latest)\n",
    "model2.evaluate(test_data)"
   ]
  },
  {
   "cell_type": "code",
   "execution_count": 33,
   "metadata": {},
   "outputs": [
    {
     "name": "stdout",
     "output_type": "stream",
     "text": [
      "{'loss': [0.46515822410583496, 0.3686065375804901], 'accuracy': [0.7740920782089233, 0.8355004787445068], 'val_loss': [0.3801964819431305, 0.3726419508457184], 'val_accuracy': [0.8248826861381531, 0.8310379385948181]}\n"
     ]
    }
   ],
   "source": [
    "print(history.history)"
   ]
  },
  {
   "cell_type": "code",
   "execution_count": 34,
   "metadata": {},
   "outputs": [
    {
     "data": {
      "image/png": "[encoded data removed]",
      "text/plain": [
       "<Figure size 640x480 with 1 Axes>"
      ]
     },
     "metadata": {},
     "output_type": "display_data"
    }
   ],
   "source": [
    "plt.plot(history.history['accuracy'], label=\"Training acc\")\n",
    "plt.plot(history.history['val_accuracy'], label=\"Validation acc\")\n",
    "plt.title(\"Accuracy of Model\")\n",
    "plt.xlabel(\"Epoch\")\n",
    "plt.ylabel(\"Accuracy\")\n",
    "plt.legend()\n",
    "plt.show()"
   ]
  },
  {
   "cell_type": "code",
   "execution_count": 37,
   "metadata": {},
   "outputs": [
    {
     "data": {
      "image/png": "[encoded data removed]",
      "text/plain": [
       "<Figure size 640x480 with 1 Axes>"
      ]
     },
     "metadata": {},
     "output_type": "display_data"
    }
   ],
   "source": [
    "plt.plot(history.history['loss'], label=\"Training loss\")\n",
    "plt.plot(history.history['val_loss'], label=\"Validation loss\")\n",
    "plt.title(\"Loss of Model\")\n",
    "plt.xlabel(\"Epoch\")\n",
    "plt.ylabel(\"Loss\")\n",
    "plt.legend()\n",
    "plt.show()"
   ]
  },
  {
   "cell_type": "markdown",
   "metadata": {},
   "source": [
    "# LSTM\n"
   ]
  },
  {
   "cell_type": "code",
   "execution_count": 49,
   "metadata": {},
   "outputs": [],
   "source": [
    "encoder = tf.keras.layers.TextVectorization(max_tokens=2000)\n",
    "encoder.adapt(train_data.map(lambda text, label: text))"
   ]
  },
  {
   "cell_type": "code",
   "execution_count": 58,
   "metadata": {},
   "outputs": [
    {
     "data": {
      "text/plain": [
       "array(['', '[UNK]', 'and', 'the', 'a', 'of', 'with', 'this', 'is', 'wine',\n",
       "       'flavors', 'in', 'it', 'to', 'its', 'on', 'fruit', 'aromas',\n",
       "       'palate', 'that'], dtype='<U17')"
      ]
     },
     "execution_count": 58,
     "metadata": {},
     "output_type": "execute_result"
    }
   ],
   "source": [
    "vocab = np.array(encoder.get_vocabulary())\n",
    "vocab[:20]"
   ]
  },
  {
   "cell_type": "code",
   "execution_count": 59,
   "metadata": {},
   "outputs": [],
   "source": [
    "model = tf.keras.Sequential([\n",
    "    encoder,\n",
    "    tf.keras.layers.Embedding(\n",
    "        input_dim=len(encoder.get_vocabulary()),\n",
    "        output_dim=32,\n",
    "        mask_zero=True,\n",
    "    ),\n",
    "    tf.keras.layers.LSTM(32),\n",
    "    tf.keras.layers.Dense(32, activation='relu'),\n",
    "    tf.keras.layers.Dropout(0.4),\n",
    "    tf.keras.layers.Dense(1, activation=\"sigmoid\"),\n",
    "])"
   ]
  },
  {
   "cell_type": "code",
   "execution_count": 60,
   "metadata": {},
   "outputs": [],
   "source": [
    "model.compile(optimizer=tf.keras.optimizers.Adam(learning_rate=0.001),\n",
    "              loss=tf.keras.losses.BinaryCrossentropy(),\n",
    "              metrics=['accuracy'])"
   ]
  },
  {
   "cell_type": "code",
   "execution_count": 64,
   "metadata": {},
   "outputs": [
    {
     "name": "stdout",
     "output_type": "stream",
     "text": [
      "3250/3250 [==============================] - 16s 5ms/step - loss: 0.6932 - accuracy: 0.5035\n",
      "407/407 [==============================] - 2s 5ms/step - loss: 0.6931 - accuracy: 0.5050\n"
     ]
    },
    {
     "data": {
      "text/plain": [
       "[0.6931473612785339, 0.504962682723999]"
      ]
     },
     "execution_count": 64,
     "metadata": {},
     "output_type": "execute_result"
    }
   ],
   "source": [
    "model.evaluate(train_data)\n",
    "model.evaluate(valid_data)"
   ]
  },
  {
   "cell_type": "code",
   "execution_count": 65,
   "metadata": {},
   "outputs": [
    {
     "name": "stdout",
     "output_type": "stream",
     "text": [
      "Epoch 1/5\n",
      "3250/3250 [==============================] - 40s 12ms/step - loss: 0.3978 - accuracy: 0.8171 - val_loss: 0.3648 - val_accuracy: 0.8355\n",
      "Epoch 2/5\n",
      "3250/3250 [==============================] - 38s 12ms/step - loss: 0.3542 - accuracy: 0.8406 - val_loss: 0.3450 - val_accuracy: 0.8444\n",
      "Epoch 3/5\n",
      "3250/3250 [==============================] - 38s 12ms/step - loss: 0.3417 - accuracy: 0.8454 - val_loss: 0.3433 - val_accuracy: 0.8454\n",
      "Epoch 4/5\n",
      "3250/3250 [==============================] - 38s 12ms/step - loss: 0.3311 - accuracy: 0.8497 - val_loss: 0.3497 - val_accuracy: 0.8426\n",
      "Epoch 5/5\n",
      "3250/3250 [==============================] - 38s 12ms/step - loss: 0.3220 - accuracy: 0.8522 - val_loss: 0.3594 - val_accuracy: 0.8378\n"
     ]
    }
   ],
   "source": [
    "history = model.fit(train_data, epochs=5, validation_data=valid_data)"
   ]
  },
  {
   "cell_type": "code",
   "execution_count": 66,
   "metadata": {},
   "outputs": [
    {
     "name": "stdout",
     "output_type": "stream",
     "text": [
      "407/407 [==============================] - 2s 4ms/step - loss: 0.3627 - accuracy: 0.8341\n"
     ]
    },
    {
     "data": {
      "text/plain": [
       "[0.36270177364349365, 0.8340513706207275]"
      ]
     },
     "execution_count": 66,
     "metadata": {},
     "output_type": "execute_result"
    }
   ],
   "source": [
    "model.evaluate(test_data)"
   ]
  },
  {
   "cell_type": "markdown",
   "metadata": {},
   "source": [
    "# DIABETES"
   ]
  },
  {
   "cell_type": "code",
   "execution_count": null,
   "metadata": {},
   "outputs": [],
   "source": [
    "for i in range(len(df_diabetes[:-1])):\n",
    "    label = df_diabetes.columns[i]\n",
    "    plt.hist(df_diabetes[df_diabetes['Outcome']==1][label], color='red', label='Diabetes', alpha=0.7, density=True, bins=15)\n",
    "    plt.hist(df_diabetes[df_diabetes['Outcome']==0][label], color='green', label='No Diabetes', alpha=0.7, density=True, bins=15)\n",
    "    plt.title(label)\n",
    "    plt.xlabel(label)\n",
    "    plt.ylabel('N')\n",
    "    plt.legend()\n",
    "    plt.show()"
   ]
  },
  {
   "cell_type": "code",
   "execution_count": null,
   "metadata": {},
   "outputs": [],
   "source": [
    "X = df_diabetes[df_diabetes.columns[:-1]].values\n",
    "y = df_diabetes[df_diabetes.columns[-1]].values"
   ]
  },
  {
   "cell_type": "code",
   "execution_count": null,
   "metadata": {},
   "outputs": [],
   "source": [
    "scaler = StandardScaler()\n",
    "X = scaler.fit_transform(X)\n",
    "data = np.hstack((X, np.reshape(y, (-1, 1))))\n",
    "transformed_df = pd.DataFrame(data, columns=df_diabetes.columns)"
   ]
  },
  {
   "cell_type": "code",
   "execution_count": null,
   "metadata": {},
   "outputs": [
    {
     "data": {
      "text/plain": [
       "(268, 500)"
      ]
     },
     "execution_count": 80,
     "metadata": {},
     "output_type": "execute_result"
    }
   ],
   "source": [
    "len(transformed_df[transformed_df['Outcome']==1]), len(transformed_df[transformed_df['Outcome']==0])"
   ]
  },
  {
   "cell_type": "code",
   "execution_count": null,
   "metadata": {},
   "outputs": [],
   "source": [
    "over = RandomOverSampler()\n",
    "X, y = over.fit_resample(X, y)\n",
    "data = np.hstack((X, np.reshape(y, (-1, 1))))\n",
    "transformed_df = pd.DataFrame(data, columns=df_diabetes.columns)\n"
   ]
  },
  {
   "cell_type": "code",
   "execution_count": null,
   "metadata": {},
   "outputs": [
    {
     "data": {
      "text/plain": [
       "(500, 500)"
      ]
     },
     "execution_count": 82,
     "metadata": {},
     "output_type": "execute_result"
    }
   ],
   "source": [
    "len(transformed_df[transformed_df['Outcome']==1]), len(transformed_df[transformed_df['Outcome']==0])"
   ]
  },
  {
   "cell_type": "code",
   "execution_count": null,
   "metadata": {},
   "outputs": [],
   "source": [
    "X_train, X_temp, y_train, y_temp = train_test_split(X, y, test_size=0.4, random_state=42)\n",
    "X_valid, X_test, y_valid, y_test = train_test_split(X, y, test_size=0.5, random_state=42)"
   ]
  },
  {
   "cell_type": "code",
   "execution_count": null,
   "metadata": {},
   "outputs": [],
   "source": [
    "model = tf.keras.Sequential([\n",
    "    tf.keras.layers.Dense(16, activation='relu'),\n",
    "    tf.keras.layers.Dense(16, activation='relu'),\n",
    "    tf.keras.layers.Dense(1, activation='sigmoid')\n",
    "])"
   ]
  },
  {
   "cell_type": "code",
   "execution_count": null,
   "metadata": {},
   "outputs": [],
   "source": [
    "model.compile(optimizer=tf.keras.optimizers.legacy.Adagrad(learning_rate=0.001),\n",
    "              loss=tf.keras.losses.BinaryCrossentropy(),\n",
    "              metrics=['accuracy'])"
   ]
  },
  {
   "cell_type": "code",
   "execution_count": null,
   "metadata": {},
   "outputs": [
    {
     "name": "stdout",
     "output_type": "stream",
     "text": [
      "19/19 [==============================] - 0s 999us/step - loss: 0.7495 - accuracy: 0.3883\n"
     ]
    },
    {
     "data": {
      "text/plain": [
       "[0.7494762539863586, 0.3883333206176758]"
      ]
     },
     "execution_count": 86,
     "metadata": {},
     "output_type": "execute_result"
    }
   ],
   "source": [
    "model.evaluate(X_train, y_train)"
   ]
  },
  {
   "cell_type": "code",
   "execution_count": null,
   "metadata": {},
   "outputs": [
    {
     "name": "stdout",
     "output_type": "stream",
     "text": [
      "16/16 [==============================] - 0s 604us/step - loss: 0.7478 - accuracy: 0.4020\n"
     ]
    },
    {
     "data": {
      "text/plain": [
       "[0.7477594017982483, 0.4020000100135803]"
      ]
     },
     "execution_count": 87,
     "metadata": {},
     "output_type": "execute_result"
    }
   ],
   "source": [
    "model.evaluate(X_valid, y_valid)"
   ]
  },
  {
   "cell_type": "code",
   "execution_count": null,
   "metadata": {},
   "outputs": [
    {
     "name": "stdout",
     "output_type": "stream",
     "text": [
      "Epoch 1/32\n",
      "38/38 [==============================] - 0s 3ms/step - loss: 0.6483 - accuracy: 0.6583 - val_loss: 0.6464 - val_accuracy: 0.6680\n",
      "Epoch 2/32\n",
      "38/38 [==============================] - 0s 1ms/step - loss: 0.6470 - accuracy: 0.6583 - val_loss: 0.6451 - val_accuracy: 0.6680\n",
      "Epoch 3/32\n",
      "38/38 [==============================] - 0s 2ms/step - loss: 0.6457 - accuracy: 0.6600 - val_loss: 0.6438 - val_accuracy: 0.6760\n",
      "Epoch 4/32\n",
      "38/38 [==============================] - 0s 1ms/step - loss: 0.6444 - accuracy: 0.6667 - val_loss: 0.6425 - val_accuracy: 0.6740\n",
      "Epoch 5/32\n",
      "38/38 [==============================] - 0s 1ms/step - loss: 0.6431 - accuracy: 0.6667 - val_loss: 0.6413 - val_accuracy: 0.6760\n",
      "Epoch 6/32\n",
      "38/38 [==============================] - 0s 2ms/step - loss: 0.6418 - accuracy: 0.6667 - val_loss: 0.6401 - val_accuracy: 0.6780\n",
      "Epoch 7/32\n",
      "38/38 [==============================] - 0s 2ms/step - loss: 0.6406 - accuracy: 0.6683 - val_loss: 0.6389 - val_accuracy: 0.6800\n",
      "Epoch 8/32\n",
      "38/38 [==============================] - 0s 2ms/step - loss: 0.6394 - accuracy: 0.6700 - val_loss: 0.6377 - val_accuracy: 0.6800\n",
      "Epoch 9/32\n",
      "38/38 [==============================] - 0s 1ms/step - loss: 0.6382 - accuracy: 0.6717 - val_loss: 0.6365 - val_accuracy: 0.6800\n",
      "Epoch 10/32\n",
      "38/38 [==============================] - 0s 1ms/step - loss: 0.6371 - accuracy: 0.6733 - val_loss: 0.6354 - val_accuracy: 0.6820\n",
      "Epoch 11/32\n",
      "38/38 [==============================] - 0s 1ms/step - loss: 0.6359 - accuracy: 0.6733 - val_loss: 0.6343 - val_accuracy: 0.6840\n",
      "Epoch 12/32\n",
      "38/38 [==============================] - 0s 1ms/step - loss: 0.6348 - accuracy: 0.6750 - val_loss: 0.6332 - val_accuracy: 0.6860\n",
      "Epoch 13/32\n",
      "38/38 [==============================] - 0s 1ms/step - loss: 0.6337 - accuracy: 0.6750 - val_loss: 0.6321 - val_accuracy: 0.6860\n",
      "Epoch 14/32\n",
      "38/38 [==============================] - 0s 1ms/step - loss: 0.6326 - accuracy: 0.6750 - val_loss: 0.6311 - val_accuracy: 0.6860\n",
      "Epoch 15/32\n",
      "38/38 [==============================] - 0s 1ms/step - loss: 0.6316 - accuracy: 0.6783 - val_loss: 0.6301 - val_accuracy: 0.6880\n",
      "Epoch 16/32\n",
      "38/38 [==============================] - 0s 1ms/step - loss: 0.6305 - accuracy: 0.6800 - val_loss: 0.6291 - val_accuracy: 0.6900\n",
      "Epoch 17/32\n",
      "38/38 [==============================] - 0s 1ms/step - loss: 0.6295 - accuracy: 0.6850 - val_loss: 0.6280 - val_accuracy: 0.6900\n",
      "Epoch 18/32\n",
      "38/38 [==============================] - 0s 1ms/step - loss: 0.6285 - accuracy: 0.6850 - val_loss: 0.6271 - val_accuracy: 0.6900\n",
      "Epoch 19/32\n",
      "38/38 [==============================] - 0s 2ms/step - loss: 0.6275 - accuracy: 0.6883 - val_loss: 0.6261 - val_accuracy: 0.6920\n",
      "Epoch 20/32\n",
      "38/38 [==============================] - 0s 958us/step - loss: 0.6265 - accuracy: 0.6883 - val_loss: 0.6251 - val_accuracy: 0.6920\n",
      "Epoch 21/32\n",
      "38/38 [==============================] - 0s 1ms/step - loss: 0.6255 - accuracy: 0.6900 - val_loss: 0.6242 - val_accuracy: 0.6940\n",
      "Epoch 22/32\n",
      "38/38 [==============================] - 0s 1ms/step - loss: 0.6246 - accuracy: 0.6900 - val_loss: 0.6233 - val_accuracy: 0.6940\n",
      "Epoch 23/32\n",
      "38/38 [==============================] - 0s 950us/step - loss: 0.6237 - accuracy: 0.6900 - val_loss: 0.6224 - val_accuracy: 0.6940\n",
      "Epoch 24/32\n",
      "38/38 [==============================] - 0s 1ms/step - loss: 0.6228 - accuracy: 0.6917 - val_loss: 0.6215 - val_accuracy: 0.6980\n",
      "Epoch 25/32\n",
      "38/38 [==============================] - 0s 1ms/step - loss: 0.6219 - accuracy: 0.6917 - val_loss: 0.6206 - val_accuracy: 0.6980\n",
      "Epoch 26/32\n",
      "38/38 [==============================] - 0s 2ms/step - loss: 0.6210 - accuracy: 0.6917 - val_loss: 0.6198 - val_accuracy: 0.6960\n",
      "Epoch 27/32\n",
      "38/38 [==============================] - 0s 1ms/step - loss: 0.6201 - accuracy: 0.6917 - val_loss: 0.6189 - val_accuracy: 0.6960\n",
      "Epoch 28/32\n",
      "38/38 [==============================] - 0s 1ms/step - loss: 0.6192 - accuracy: 0.6917 - val_loss: 0.6181 - val_accuracy: 0.6960\n",
      "Epoch 29/32\n",
      "38/38 [==============================] - 0s 2ms/step - loss: 0.6184 - accuracy: 0.6933 - val_loss: 0.6173 - val_accuracy: 0.6960\n",
      "Epoch 30/32\n",
      "38/38 [==============================] - 0s 2ms/step - loss: 0.6175 - accuracy: 0.6933 - val_loss: 0.6165 - val_accuracy: 0.6960\n",
      "Epoch 31/32\n",
      "38/38 [==============================] - 0s 2ms/step - loss: 0.6167 - accuracy: 0.6933 - val_loss: 0.6156 - val_accuracy: 0.6960\n",
      "Epoch 32/32\n",
      "38/38 [==============================] - 0s 2ms/step - loss: 0.6159 - accuracy: 0.6933 - val_loss: 0.6148 - val_accuracy: 0.6960\n"
     ]
    },
    {
     "data": {
      "text/plain": [
       "<keras.src.callbacks.History at 0x2d1412410>"
      ]
     },
     "execution_count": 95,
     "metadata": {},
     "output_type": "execute_result"
    }
   ],
   "source": [
    "model.fit(X_train, y_train, batch_size=16, epochs=32, validation_data=(X_valid, y_valid))"
   ]
  },
  {
   "cell_type": "code",
   "execution_count": null,
   "metadata": {},
   "outputs": [
    {
     "name": "stdout",
     "output_type": "stream",
     "text": [
      "16/16 [==============================] - 0s 733us/step - loss: 0.6376 - accuracy: 0.6360\n"
     ]
    },
    {
     "data": {
      "text/plain": [
       "[0.6375736594200134, 0.6359999775886536]"
      ]
     },
     "execution_count": 96,
     "metadata": {},
     "output_type": "execute_result"
    }
   ],
   "source": [
    "model.evaluate(X_test, y_test)"
   ]
  }
 ],
 "metadata": {
  "kernelspec": {
   "display_name": "Python 3",
   "language": "python",
   "name": "python3"
  },
  "language_info": {
   "codemirror_mode": {
    "name": "ipython",
    "version": 3
   },
   "file_extension": ".py",
   "mimetype": "text/x-python",
   "name": "python",
   "nbconvert_exporter": "python",
   "pygments_lexer": "ipython3",
   "version": "3.11.5"
  },
  "orig_nbformat": 4
 },
 "nbformat": 4,
 "nbformat_minor": 2
}
